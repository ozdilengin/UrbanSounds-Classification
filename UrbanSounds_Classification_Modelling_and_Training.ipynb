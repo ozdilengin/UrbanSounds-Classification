{
  "nbformat": 4,
  "nbformat_minor": 0,
  "metadata": {
    "colab": {
      "provenance": [],
      "collapsed_sections": []
    },
    "kernelspec": {
      "name": "python3",
      "display_name": "Python 3"
    },
    "language_info": {
      "name": "python"
    },
    "accelerator": "GPU"
  },
  "cells": [
    {
      "cell_type": "code",
      "source": [
        "import pickle\n",
        "import tensorflow as tf\n",
        "import numpy as np\n",
        "import matplotlib.pyplot as plt\n",
        "from sklearn.model_selection import train_test_split\n",
        "import os\n",
        "from google.colab import drive\n",
        "drive.mount('/content/gdrive')"
      ],
      "metadata": {
        "colab": {
          "base_uri": "https://localhost:8080/"
        },
        "id": "h2X2Z0uINLuU",
        "outputId": "3e76e2f4-2a67-4dee-deb4-4a7cefffe6f7"
      },
      "execution_count": 3,
      "outputs": [
        {
          "output_type": "stream",
          "name": "stdout",
          "text": [
            "Drive already mounted at /content/gdrive; to attempt to forcibly remount, call drive.mount(\"/content/gdrive\", force_remount=True).\n"
          ]
        }
      ]
    },
    {
      "cell_type": "markdown",
      "source": [
        "Read prepared data sets from file"
      ],
      "metadata": {
        "id": "pl4YcEggEAS3"
      }
    },
    {
      "cell_type": "code",
      "source": [
        "\n",
        "#readback from file\n",
        "os.chdir(f\"/content/gdrive/MyDrive/Colab_Notebooks/DataSets-UrbanSounds_Classification/\")\n",
        "\n",
        "with open('X_val.pickle' , 'rb') as f:\n",
        "    X_val = pickle.load(f)\n",
        "\n",
        "with open('y_val.pickle', 'rb') as f:\n",
        "    y_val = pickle.load(f)\n",
        "\n",
        "with open('X_test.pickle', 'rb') as f:\n",
        "    X_test = pickle.load(f)\n",
        "\n",
        "with open('y_test.pickle', 'rb') as f:\n",
        "    y_test = pickle.load(f)\n",
        "\n",
        "with open('X_train.pickle', 'rb') as f:\n",
        "    X_train = pickle.load(f)\n",
        "\n",
        "with open('y_train.pickle', 'rb') as f:\n",
        "    y_train = pickle.load(f)\n",
        "\n",
        "\n",
        "print(X_val[0])"
      ],
      "metadata": {
        "colab": {
          "base_uri": "https://localhost:8080/"
        },
        "id": "sTRXTZU5D7YG",
        "outputId": "c11b081a-4e21-420c-c5c8-a97a1e0f2567"
      },
      "execution_count": 4,
      "outputs": [
        {
          "output_type": "stream",
          "name": "stdout",
          "text": [
            "[[[1.         1.         1.        ]\n",
            "  [0.00392157 0.         0.        ]\n",
            "  [0.01176471 0.         0.        ]\n",
            "  ...\n",
            "  [0.01176471 0.         0.        ]\n",
            "  [0.01176471 0.         0.        ]\n",
            "  [0.01176471 0.         0.        ]]\n",
            "\n",
            " [[1.         1.         1.        ]\n",
            "  [0.00392157 0.         0.        ]\n",
            "  [0.01568627 0.         0.        ]\n",
            "  ...\n",
            "  [0.01568627 0.         0.        ]\n",
            "  [0.01568627 0.         0.        ]\n",
            "  [0.01568627 0.         0.        ]]\n",
            "\n",
            " [[1.         1.         1.        ]\n",
            "  [0.00392157 0.         0.        ]\n",
            "  [0.01568627 0.         0.        ]\n",
            "  ...\n",
            "  [0.01568627 0.         0.        ]\n",
            "  [0.01568627 0.         0.        ]\n",
            "  [0.01568627 0.         0.        ]]\n",
            "\n",
            " ...\n",
            "\n",
            " [[1.         1.         1.        ]\n",
            "  [0.16862745 0.05882353 0.20392157]\n",
            "  [0.4627451  0.22745098 0.75294118]\n",
            "  ...\n",
            "  [0.49019608 0.2        0.66666667]\n",
            "  [0.40392157 0.29803922 0.87843137]\n",
            "  [0.43529412 0.2627451  0.8       ]]\n",
            "\n",
            " [[1.         1.         1.        ]\n",
            "  [0.15294118 0.01960784 0.09019608]\n",
            "  [0.48235294 0.09019608 0.36078431]\n",
            "  ...\n",
            "  [0.44705882 0.05882353 0.25882353]\n",
            "  [0.41176471 0.05490196 0.21176471]\n",
            "  [0.46666667 0.12156863 0.43921569]]\n",
            "\n",
            " [[1.         1.         1.        ]\n",
            "  [1.         1.         1.        ]\n",
            "  [1.         1.         1.        ]\n",
            "  ...\n",
            "  [1.         1.         1.        ]\n",
            "  [1.         1.         1.        ]\n",
            "  [1.         1.         1.        ]]]\n"
          ]
        }
      ]
    },
    {
      "cell_type": "code",
      "source": [
        "y_val[0]"
      ],
      "metadata": {
        "colab": {
          "base_uri": "https://localhost:8080/"
        },
        "id": "x8XziOED212F",
        "outputId": "78ae3c85-837d-4763-f388-b0b107d4eeab"
      },
      "execution_count": 5,
      "outputs": [
        {
          "output_type": "execute_result",
          "data": {
            "text/plain": [
              "8"
            ]
          },
          "metadata": {},
          "execution_count": 5
        }
      ]
    },
    {
      "cell_type": "code",
      "source": [
        "# Create a model object\n",
        "model = tf.keras.Sequential()"
      ],
      "metadata": {
        "id": "1E3eSRz2gWQ4"
      },
      "execution_count": 6,
      "outputs": []
    },
    {
      "cell_type": "code",
      "source": [
        "# Add a convolution and max pooling layer\n",
        "model.add(tf.keras.layers.Conv2D(64,\n",
        "                                 kernel_size = (3,3),\n",
        "                                 strides = (1,1),\n",
        "                                 padding=\"same\",\n",
        "                                 activation = \"relu\",\n",
        "                                 input_shape=(96,128,3)))\n",
        "model.add(tf.keras.layers.MaxPooling2D((2,2)))"
      ],
      "metadata": {
        "id": "ZvF1uTQGpxbD"
      },
      "execution_count": 7,
      "outputs": []
    },
    {
      "cell_type": "code",
      "source": [
        "# Add more convolution and max pooling layers\n",
        "model.add(tf.keras.layers.Conv2D(64,\n",
        "                                 kernel_size = (3,3),\n",
        "                                 strides = (1,1),\n",
        "                                 padding=\"same\",\n",
        "                                 activation = \"relu\",))\n",
        "model.add(tf.keras.layers.MaxPooling2D((2,2)))\n",
        "model.add(tf.keras.layers.Conv2D(64,\n",
        "                                 kernel_size = (3,3),\n",
        "                                 strides = (1,1),\n",
        "                                 padding=\"same\",\n",
        "                                 activation = \"relu\",))"
      ],
      "metadata": {
        "id": "KRupi3HLqA6t"
      },
      "execution_count": 8,
      "outputs": []
    },
    {
      "cell_type": "code",
      "source": [
        "# Flatten the convolution layer\n",
        "model.add(tf.keras.layers.Flatten())"
      ],
      "metadata": {
        "id": "2UGjdc6mqH8c"
      },
      "execution_count": 9,
      "outputs": []
    },
    {
      "cell_type": "code",
      "source": [
        "# Add the dense layer and dropout layer\n",
        "model.add(tf.keras.layers.Dense(64, activation = 'relu'))\n",
        "model.add(tf.keras.layers.Dropout(0.5))\n",
        "\n",
        "# Add the dense layer and dropout layer\n",
        "model.add(tf.keras.layers.Dense(64, activation = 'relu'))\n",
        "model.add(tf.keras.layers.Dropout(0.5))"
      ],
      "metadata": {
        "id": "GwQJ3Oo3qL4u"
      },
      "execution_count": 10,
      "outputs": []
    },
    {
      "cell_type": "code",
      "source": [
        "# Add the output layer\n",
        "model.add(tf.keras.layers.Dense(10, activation = 'softmax'))"
      ],
      "metadata": {
        "id": "l60QUgy23s0r"
      },
      "execution_count": 11,
      "outputs": []
    },
    {
      "cell_type": "code",
      "source": [
        "# Compile the model\n",
        "model.compile(optimizer = 'adam',\n",
        "              loss = 'sparse_categorical_crossentropy',\n",
        "              metrics = ['accuracy'])"
      ],
      "metadata": {
        "id": "eqkmABWG3x49"
      },
      "execution_count": 12,
      "outputs": []
    },
    {
      "cell_type": "code",
      "source": [
        "# Train the model for 50 epochs with batch size of 128\n",
        "results = model.fit(X_train, y_train,\n",
        "                    batch_size=128,\n",
        "                    epochs = 25,\n",
        "                    validation_data = (X_val, y_val))"
      ],
      "metadata": {
        "colab": {
          "base_uri": "https://localhost:8080/"
        },
        "id": "F49O8WanrH7D",
        "outputId": "7a0269dc-7955-4723-f995-bf1b3579f5d3"
      },
      "execution_count": 13,
      "outputs": [
        {
          "output_type": "stream",
          "name": "stdout",
          "text": [
            "Epoch 1/25\n",
            "55/55 [==============================] - 19s 103ms/step - loss: 2.1728 - accuracy: 0.1971 - val_loss: 1.7732 - val_accuracy: 0.4032\n",
            "Epoch 2/25\n",
            "55/55 [==============================] - 4s 74ms/step - loss: 1.8715 - accuracy: 0.3137 - val_loss: 1.5173 - val_accuracy: 0.4983\n",
            "Epoch 3/25\n",
            "55/55 [==============================] - 4s 78ms/step - loss: 1.6821 - accuracy: 0.3946 - val_loss: 1.2698 - val_accuracy: 0.5991\n",
            "Epoch 4/25\n",
            "55/55 [==============================] - 4s 73ms/step - loss: 1.5270 - accuracy: 0.4558 - val_loss: 1.1978 - val_accuracy: 0.6460\n",
            "Epoch 5/25\n",
            "55/55 [==============================] - 4s 73ms/step - loss: 1.3824 - accuracy: 0.4925 - val_loss: 1.0315 - val_accuracy: 0.6873\n",
            "Epoch 6/25\n",
            "55/55 [==============================] - 4s 73ms/step - loss: 1.2887 - accuracy: 0.5291 - val_loss: 0.9457 - val_accuracy: 0.7125\n",
            "Epoch 7/25\n",
            "55/55 [==============================] - 4s 73ms/step - loss: 1.1660 - accuracy: 0.5817 - val_loss: 0.8596 - val_accuracy: 0.7468\n",
            "Epoch 8/25\n",
            "55/55 [==============================] - 4s 73ms/step - loss: 1.0690 - accuracy: 0.6160 - val_loss: 0.7989 - val_accuracy: 0.7915\n",
            "Epoch 9/25\n",
            "55/55 [==============================] - 4s 74ms/step - loss: 1.0189 - accuracy: 0.6354 - val_loss: 0.7039 - val_accuracy: 0.8018\n",
            "Epoch 10/25\n",
            "55/55 [==============================] - 4s 74ms/step - loss: 0.9452 - accuracy: 0.6641 - val_loss: 0.6984 - val_accuracy: 0.8190\n",
            "Epoch 11/25\n",
            "55/55 [==============================] - 4s 79ms/step - loss: 0.8794 - accuracy: 0.6942 - val_loss: 0.6594 - val_accuracy: 0.8259\n",
            "Epoch 12/25\n",
            "55/55 [==============================] - 4s 73ms/step - loss: 0.7999 - accuracy: 0.7218 - val_loss: 0.5959 - val_accuracy: 0.8477\n",
            "Epoch 13/25\n",
            "55/55 [==============================] - 4s 73ms/step - loss: 0.7573 - accuracy: 0.7394 - val_loss: 0.5824 - val_accuracy: 0.8373\n",
            "Epoch 14/25\n",
            "55/55 [==============================] - 4s 73ms/step - loss: 0.7386 - accuracy: 0.7476 - val_loss: 0.5624 - val_accuracy: 0.8385\n",
            "Epoch 15/25\n",
            "55/55 [==============================] - 4s 73ms/step - loss: 0.7047 - accuracy: 0.7605 - val_loss: 0.5343 - val_accuracy: 0.8442\n",
            "Epoch 16/25\n",
            "55/55 [==============================] - 4s 73ms/step - loss: 0.6404 - accuracy: 0.7784 - val_loss: 0.5503 - val_accuracy: 0.8442\n",
            "Epoch 17/25\n",
            "55/55 [==============================] - 4s 73ms/step - loss: 0.6403 - accuracy: 0.7824 - val_loss: 0.5381 - val_accuracy: 0.8603\n",
            "Epoch 18/25\n",
            "55/55 [==============================] - 4s 73ms/step - loss: 0.5897 - accuracy: 0.7947 - val_loss: 0.5339 - val_accuracy: 0.8568\n",
            "Epoch 19/25\n",
            "55/55 [==============================] - 4s 74ms/step - loss: 0.5818 - accuracy: 0.7960 - val_loss: 0.5110 - val_accuracy: 0.8648\n",
            "Epoch 20/25\n",
            "55/55 [==============================] - 4s 74ms/step - loss: 0.5480 - accuracy: 0.8099 - val_loss: 0.5275 - val_accuracy: 0.8637\n",
            "Epoch 21/25\n",
            "55/55 [==============================] - 4s 73ms/step - loss: 0.5365 - accuracy: 0.8140 - val_loss: 0.5536 - val_accuracy: 0.8603\n",
            "Epoch 22/25\n",
            "55/55 [==============================] - 4s 73ms/step - loss: 0.5199 - accuracy: 0.8223 - val_loss: 0.5800 - val_accuracy: 0.8522\n",
            "Epoch 23/25\n",
            "55/55 [==============================] - 4s 73ms/step - loss: 0.5318 - accuracy: 0.8160 - val_loss: 0.5226 - val_accuracy: 0.8660\n",
            "Epoch 24/25\n",
            "55/55 [==============================] - 4s 74ms/step - loss: 0.4993 - accuracy: 0.8298 - val_loss: 0.5418 - val_accuracy: 0.8637\n",
            "Epoch 25/25\n",
            "55/55 [==============================] - 4s 73ms/step - loss: 0.5043 - accuracy: 0.8276 - val_loss: 0.5682 - val_accuracy: 0.8488\n"
          ]
        }
      ]
    },
    {
      "cell_type": "markdown",
      "source": [
        "Visualize the results"
      ],
      "metadata": {
        "id": "vOgSFguz69ls"
      }
    },
    {
      "cell_type": "code",
      "source": [
        "# Plot the the training loss\n",
        "plt.plot(results.history['loss'], label='loss')\n",
        "\n",
        "# Plot the the validation loss\n",
        "plt.plot(results.history['val_loss'], label='val_loss')\n",
        "\n",
        "# Name the x and y axises\n",
        "plt.xlabel('Epoch')\n",
        "plt.ylabel('Loss')\n",
        "\n",
        "# Put legend table\n",
        "plt.legend()\n",
        "\n",
        "# Show the plot\n",
        "plt.show()"
      ],
      "metadata": {
        "colab": {
          "base_uri": "https://localhost:8080/",
          "height": 283
        },
        "id": "d5VP7R1n66Ri",
        "outputId": "231bc22b-5a0d-433d-a410-a494927acf9f"
      },
      "execution_count": 14,
      "outputs": [
        {
          "output_type": "display_data",
          "data": {
            "text/plain": [
              "<Figure size 432x288 with 1 Axes>"
            ],
            "image/png": "[encoded data removed]"
          },
          "metadata": {
            "needs_background": "light"
          }
        }
      ]
    },
    {
      "cell_type": "code",
      "source": [
        "# Plot the the training accuracy\n",
        "plt.plot(results.history['accuracy'], label='accuracy')\n",
        "\n",
        "# Plot the the validation accuracy\n",
        "plt.plot(results.history['val_accuracy'], label='val_accuracy')\n",
        "\n",
        "# Name the x and y axises\n",
        "plt.xlabel('Epoch')\n",
        "plt.ylabel('Accuracy')\n",
        "# Put legend table\n",
        "plt.legend()\n",
        "\n",
        "# Show the plot\n",
        "plt.show()"
      ],
      "metadata": {
        "colab": {
          "base_uri": "https://localhost:8080/",
          "height": 279
        },
        "id": "e27ne7dl7Lnp",
        "outputId": "1a4440de-38b9-4e35-88c3-fbf9216b29b3"
      },
      "execution_count": 15,
      "outputs": [
        {
          "output_type": "display_data",
          "data": {
            "text/plain": [
              "<Figure size 432x288 with 1 Axes>"
            ],
            "image/png": "[encoded data removed]"
          },
          "metadata": {
            "needs_background": "light"
          }
        }
      ]
    },
    {
      "cell_type": "code",
      "source": [
        "# Evaluate the performance\n",
        "model.evaluate(X_test, y_test)"
      ],
      "metadata": {
        "colab": {
          "base_uri": "https://localhost:8080/"
        },
        "id": "npVG8hTN7VeM",
        "outputId": "373ed807-2b17-4df1-da36-2b562d1f7ea0"
      },
      "execution_count": 16,
      "outputs": [
        {
          "output_type": "stream",
          "name": "stdout",
          "text": [
            "28/28 [==============================] - 1s 14ms/step - loss: 0.6579 - accuracy: 0.8330\n"
          ]
        },
        {
          "output_type": "execute_result",
          "data": {
            "text/plain": [
              "[0.6578524708747864, 0.8329519629478455]"
            ]
          },
          "metadata": {},
          "execution_count": 16
        }
      ]
    },
    {
      "cell_type": "code",
      "source": [
        "# Make prediction on the reshaped sample\n",
        "prediction_result = model.predict(X_test[2].reshape(1,96,128,3))\n",
        "\n",
        "# Print the prediction result\n",
        "prediction_result"
      ],
      "metadata": {
        "colab": {
          "base_uri": "https://localhost:8080/"
        },
        "id": "k8C9ZqfC7XhJ",
        "outputId": "14b39143-3402-4fec-9514-9e54397618c3"
      },
      "execution_count": 17,
      "outputs": [
        {
          "output_type": "execute_result",
          "data": {
            "text/plain": [
              "array([[4.7052319e-05, 5.0296939e-10, 4.6223128e-08, 9.1835102e-07,\n",
              "        4.3259554e-02, 3.3531873e-04, 4.6727633e-10, 9.5635676e-01,\n",
              "        5.2213281e-08, 2.9640140e-07]], dtype=float32)"
            ]
          },
          "metadata": {},
          "execution_count": 17
        }
      ]
    },
    {
      "cell_type": "code",
      "source": [
        "# Find the predicted class\n",
        "predicted_class = prediction_result.argmax()\n",
        "# Find the prediction probability\n",
        "predicted_probability = prediction_result.max()"
      ],
      "metadata": {
        "id": "OjVPzbA-7bA0"
      },
      "execution_count": 18,
      "outputs": []
    },
    {
      "cell_type": "code",
      "source": [
        "# Print the results\n",
        "print(f'this image belongs to class {predicted_class} with {predicted_probability} probability % ')"
      ],
      "metadata": {
        "colab": {
          "base_uri": "https://localhost:8080/"
        },
        "id": "nGkoZiIa7b0R",
        "outputId": "a91e4f66-fcac-43b1-a1bc-d2843f932035"
      },
      "execution_count": 19,
      "outputs": [
        {
          "output_type": "stream",
          "name": "stdout",
          "text": [
            "this image belongs to class 7 with 0.9563567638397217 probability % \n"
          ]
        }
      ]
    }
  ]
}